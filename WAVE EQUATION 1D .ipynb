{
 "cells": [
  {
   "cell_type": "markdown",
   "metadata": {},
   "source": [
    "## Wave equation with maximally dissipative boundary conditions"
   ]
  },
  {
   "cell_type": "markdown",
   "metadata": {},
   "source": [
    "Arnau Duran Mayol\n",
    "\n",
    "Elements de Relativitat Numèrica\n",
    "\n",
    "UIB\n",
    "## ADVECTION EQUATION\n",
    "\n",
    "$\\partial_tu+c\\partial_xu=0$\n",
    "\n",
    "Set $c=1$."
   ]
  },
  {
   "cell_type": "code",
   "execution_count": 1,
   "metadata": {},
   "outputs": [],
   "source": [
    "import numpy as np\n",
    "import matplotlib.pyplot as plt\n",
    "from matplotlib.animation import FuncAnimation\n",
    "from IPython.display import HTML"
   ]
  },
  {
   "cell_type": "code",
   "execution_count": 3,
   "metadata": {},
   "outputs": [],
   "source": [
    "# Parameters\n",
    "L = 10.0    # Length of the domain\n",
    "T = 2    # Total simulation time\n",
    "a = 1.0     # Advection velocity\n",
    "Nx = 100    # Number of spatial grid points\n",
    "Nt = 200    # Number of time steps\n",
    "CFL = 0.9    # condition necessary for convergence\n",
    "dx = 2*L / Nx  # Spatial step size\n",
    "dt = CFL * dx\n",
    "epsilon=1\n",
    "\n",
    "# Initial condition with Gaussian\n",
    "def initial_condition(x, A, sigma):\n",
    "    return A * np.exp(-x**2 / (2 * sigma**2))\n",
    "\n",
    "def boundary_conditions(u):\n",
    "    u[0] = u[Nx - 4]\n",
    "    u[1] = u[Nx - 3]\n",
    "    u[Nx - 2] = u[2]\n",
    "    u[Nx - 1] = u[3]\n",
    "    return u\n",
    "\n",
    "# Kreiss-Oliger dissipation term\n",
    "def dissipation_term(u,dx,Nx, epsilon):\n",
    "    Qd = np.zeros_like(u)  # Initialize Qd\n",
    "\n",
    "    for i in range(Nx):\n",
    "        Qd[i] = epsilon*1/(64*dx)*(u[(i+3)%Nx]-6*u[(i+2)%Nx]+15*u[(i+1)%Nx]-20*u[i]+15*u[(i-1)%Nx]-6*u[(i-2)%Nx]+u[(i-3)%Nx])\n",
    "    return Qd\n",
    "\n",
    "#Spatial derivative 4th order\n",
    "def spatial_derivative_4_order(u,Nx,dx):\n",
    "    rhs = np.zeros_like(u)\n",
    "    for i in range(Nx):\n",
    "        rhs[i] = -(-u[(i+2)%Nx]+8*u[(i+1)%Nx]-8*u[(i-1)%Nx]+u[(i-2)%Nx])/(12*dx)\n",
    "    return rhs\n",
    "\n",
    "def analytical_solution(x, t):\n",
    "    return initial_condition(x - t, A, sigma)\n",
    "\n",
    "# Initialize grid\n",
    "x = np.linspace(-L, L, Nx, endpoint=False)\n",
    "A = 1.0\n",
    "sigma = 1\n",
    "u = initial_condition(x, A, sigma)\n",
    "\n",
    "#rk3 with 4th order D\n",
    "def RK3(u, dx, dt, Nx):\n",
    "    # Initialize arrays to store intermediate results\n",
    "    u_new = np.zeros_like(u)\n",
    "    u_temp = np.copy(u)\n",
    "    rhs_un = np.zeros_like(u)\n",
    "    rhs_u1 = np.zeros_like(u)\n",
    "    rhs_u2 = np.zeros_like(u)\n",
    "    # Compute the spatial derivative and dissipation term at the current time step\n",
    "    rhs_un = spatial_derivative_4_order(u_temp, Nx, dx) + dissipation_term(u_temp,dx,Nx,epsilon)\n",
    "    # First stage of RK3 method\n",
    "    u1 = (u_temp + dt * rhs_un)\n",
    "    u1 = boundary_conditions(u1)\n",
    "    rhs_u1 = spatial_derivative_4_order(u1, Nx, dx)+ dissipation_term(u1,dx,Nx,epsilon)\n",
    "    # Second stage of RK3 method\n",
    "    u2 = (u_temp + dt * (rhs_un + rhs_u1) / 4) \n",
    "    u2 = boundary_conditions(u2)\n",
    "    rhs_u2 = spatial_derivative_4_order(u2, Nx, dx)+ dissipation_term(u2,dx,Nx,epsilon)\n",
    "    # Final stage using the weighted average of the three evaluations\n",
    "    u_new = u + (dt / 6.0) * (rhs_un + rhs_u1 + 4 * rhs_u2)\n",
    "    u_new = boundary_conditions(u_new)\n",
    "    return u_new"
   ]
  },
  {
   "cell_type": "markdown",
   "metadata": {},
   "source": [
    "Runge-Kutta 3rd order with 4th order spatial derivative"
   ]
  },
  {
   "cell_type": "code",
   "execution_count": 4,
   "metadata": {},
   "outputs": [
    {
     "ename": "RuntimeError",
     "evalue": "Requested MovieWriter (ffmpeg) not available",
     "output_type": "error",
     "traceback": [
      "\u001b[1;31m---------------------------------------------------------------------------\u001b[0m",
      "\u001b[1;31mRuntimeError\u001b[0m                              Traceback (most recent call last)",
      "\u001b[1;32m~\\AppData\\Local\\Temp/ipykernel_13528/1824238002.py\u001b[0m in \u001b[0;36m<module>\u001b[1;34m\u001b[0m\n\u001b[0;32m     20\u001b[0m \u001b[1;31m# Create animation\u001b[0m\u001b[1;33m\u001b[0m\u001b[1;33m\u001b[0m\u001b[0m\n\u001b[0;32m     21\u001b[0m \u001b[0manimation\u001b[0m \u001b[1;33m=\u001b[0m \u001b[0mFuncAnimation\u001b[0m\u001b[1;33m(\u001b[0m\u001b[0mfig\u001b[0m\u001b[1;33m,\u001b[0m \u001b[0mupdate\u001b[0m\u001b[1;33m,\u001b[0m \u001b[0mframes\u001b[0m\u001b[1;33m=\u001b[0m\u001b[0mNt\u001b[0m\u001b[1;33m,\u001b[0m \u001b[0minterval\u001b[0m\u001b[1;33m=\u001b[0m\u001b[1;36m50\u001b[0m\u001b[1;33m,\u001b[0m \u001b[0mblit\u001b[0m\u001b[1;33m=\u001b[0m\u001b[1;32mTrue\u001b[0m\u001b[1;33m)\u001b[0m\u001b[1;33m\u001b[0m\u001b[1;33m\u001b[0m\u001b[0m\n\u001b[1;32m---> 22\u001b[1;33m \u001b[0mHTML\u001b[0m\u001b[1;33m(\u001b[0m\u001b[0manimation\u001b[0m\u001b[1;33m.\u001b[0m\u001b[0mto_html5_video\u001b[0m\u001b[1;33m(\u001b[0m\u001b[1;33m)\u001b[0m\u001b[1;33m)\u001b[0m\u001b[1;33m\u001b[0m\u001b[1;33m\u001b[0m\u001b[0m\n\u001b[0m",
      "\u001b[1;32m~\\anaconda3\\lib\\site-packages\\matplotlib\\animation.py\u001b[0m in \u001b[0;36mto_html5_video\u001b[1;34m(self, embed_limit)\u001b[0m\n\u001b[0;32m   1346\u001b[0m                 \u001b[1;31m# We create a writer manually so that we can get the\u001b[0m\u001b[1;33m\u001b[0m\u001b[1;33m\u001b[0m\u001b[0m\n\u001b[0;32m   1347\u001b[0m                 \u001b[1;31m# appropriate size for the tag\u001b[0m\u001b[1;33m\u001b[0m\u001b[1;33m\u001b[0m\u001b[0m\n\u001b[1;32m-> 1348\u001b[1;33m                 \u001b[0mWriter\u001b[0m \u001b[1;33m=\u001b[0m \u001b[0mwriters\u001b[0m\u001b[1;33m[\u001b[0m\u001b[0mmpl\u001b[0m\u001b[1;33m.\u001b[0m\u001b[0mrcParams\u001b[0m\u001b[1;33m[\u001b[0m\u001b[1;34m'animation.writer'\u001b[0m\u001b[1;33m]\u001b[0m\u001b[1;33m]\u001b[0m\u001b[1;33m\u001b[0m\u001b[1;33m\u001b[0m\u001b[0m\n\u001b[0m\u001b[0;32m   1349\u001b[0m                 writer = Writer(codec='h264',\n\u001b[0;32m   1350\u001b[0m                                 \u001b[0mbitrate\u001b[0m\u001b[1;33m=\u001b[0m\u001b[0mmpl\u001b[0m\u001b[1;33m.\u001b[0m\u001b[0mrcParams\u001b[0m\u001b[1;33m[\u001b[0m\u001b[1;34m'animation.bitrate'\u001b[0m\u001b[1;33m]\u001b[0m\u001b[1;33m,\u001b[0m\u001b[1;33m\u001b[0m\u001b[1;33m\u001b[0m\u001b[0m\n",
      "\u001b[1;32m~\\anaconda3\\lib\\site-packages\\matplotlib\\animation.py\u001b[0m in \u001b[0;36m__getitem__\u001b[1;34m(self, name)\u001b[0m\n\u001b[0;32m    149\u001b[0m         \u001b[1;32mif\u001b[0m \u001b[0mself\u001b[0m\u001b[1;33m.\u001b[0m\u001b[0mis_available\u001b[0m\u001b[1;33m(\u001b[0m\u001b[0mname\u001b[0m\u001b[1;33m)\u001b[0m\u001b[1;33m:\u001b[0m\u001b[1;33m\u001b[0m\u001b[1;33m\u001b[0m\u001b[0m\n\u001b[0;32m    150\u001b[0m             \u001b[1;32mreturn\u001b[0m \u001b[0mself\u001b[0m\u001b[1;33m.\u001b[0m\u001b[0m_registered\u001b[0m\u001b[1;33m[\u001b[0m\u001b[0mname\u001b[0m\u001b[1;33m]\u001b[0m\u001b[1;33m\u001b[0m\u001b[1;33m\u001b[0m\u001b[0m\n\u001b[1;32m--> 151\u001b[1;33m         \u001b[1;32mraise\u001b[0m \u001b[0mRuntimeError\u001b[0m\u001b[1;33m(\u001b[0m\u001b[1;34mf\"Requested MovieWriter ({name}) not available\"\u001b[0m\u001b[1;33m)\u001b[0m\u001b[1;33m\u001b[0m\u001b[1;33m\u001b[0m\u001b[0m\n\u001b[0m\u001b[0;32m    152\u001b[0m \u001b[1;33m\u001b[0m\u001b[0m\n\u001b[0;32m    153\u001b[0m \u001b[1;33m\u001b[0m\u001b[0m\n",
      "\u001b[1;31mRuntimeError\u001b[0m: Requested MovieWriter (ffmpeg) not available"
     ]
    },
    {
     "data": {
      "image/png": "[encoded data removed]",
      "text/plain": [
       "<Figure size 432x288 with 1 Axes>"
      ]
     },
     "metadata": {
      "needs_background": "light"
     },
     "output_type": "display_data"
    }
   ],
   "source": [
    "u = RK3(u, dx, dt, Nx)\n",
    "#PLOT ANIMATION\n",
    "fig, ax = plt.subplots()\n",
    "line, = ax.plot(x, u, label=\"Numerical Solution\")\n",
    "analytical_line, = ax.plot(x, analytical_solution(x, 0), \"--\", label=\"Analytical Solution\")\n",
    "ax.set_title('Advection Equation (RK3)')\n",
    "ax.set_xlabel('x')\n",
    "ax.set_ylabel('u')\n",
    "ax.legend()\n",
    "\n",
    "# Update function for animation\n",
    "def update(frame):\n",
    "    global u\n",
    "    u = RK3(u,dx,dt, Nx)\n",
    "    line.set_ydata(u)\n",
    "    analytical_line.set_ydata(analytical_solution(x, frame*dt))\n",
    "    ax.set_title(f'Advection Equation (RK3) - t = {frame*dt:.2f}')\n",
    "    return line, analytical_line\n",
    "\n",
    "# Create animation\n",
    "animation = FuncAnimation(fig, update, frames=Nt, interval=50, blit=True)\n",
    "HTML(animation.to_html5_video())\n"
   ]
  },
  {
   "cell_type": "code",
   "execution_count": 33,
   "metadata": {
    "scrolled": true
   },
   "outputs": [
    {
     "data": {
      "image/png": "[encoded data removed]",
      "text/plain": [
       "<Figure size 432x288 with 1 Axes>"
      ]
     },
     "metadata": {
      "needs_background": "light"
     },
     "output_type": "display_data"
    }
   ],
   "source": [
    "#CONVERGENCE.\n",
    "time_points = []\n",
    "errors1 = []\n",
    "errors2 = []\n",
    "T = dt * Nt\n",
    "for _ in range(int(T / dt)):\n",
    "    # RK3 with full spatial resolution\n",
    "    u1 = RK3(u, dx, dt, Nx)\n",
    "    error1 = np.max(np.abs(u1 - analytical_solution(x, T)))\n",
    "    errors1.append(error1)\n",
    "\n",
    "    # RK3 with half spatial resolution\n",
    "    u2 = RK3(u, dx / 2, dt, Nx)\n",
    "    error2 = np.max(np.abs(u2 - analytical_solution(x, T)))\n",
    "    errors2.append(error2)\n",
    "\n",
    "    # Update time\n",
    "    time_points.append(_ * dt)\n",
    "\n",
    "# Plotting the errors over time\n",
    "plt.plot(time_points, errors1, label='RK3 (dx)', linestyle='-')\n",
    "plt.plot(time_points, errors2, label='RK3 (dx/2)', linestyle='-')\n",
    "\n",
    "plt.xlabel('Time')\n",
    "plt.ylabel('Error')\n",
    "plt.title('Convergence Test')\n",
    "plt.legend()\n",
    "plt.savefig(\"convergence.png\", dpi=300)\n",
    "plt.show()\n"
   ]
  },
  {
   "cell_type": "markdown",
   "metadata": {},
   "source": [
    "## WAVE EQUATION"
   ]
  },
  {
   "cell_type": "markdown",
   "metadata": {},
   "source": [
    "$\\partial_t^2u=c^2\\nabla^2u $\n",
    "\n",
    "Use system of equations:\n",
    "\n",
    "$\\partial_t u=v$\n",
    "\n",
    "$\\partial_t v=c^2\\nabla^2u$\n",
    "\n",
    "In this case we are going to use maximally disspative boundary conditions for the left and right limit:\n",
    "\n",
    "$\\partial_tu-c\\partial_xu=0$\n",
    "\n",
    "$\\partial_tu+c\\partial_xu=0$"
   ]
  },
  {
   "cell_type": "code",
   "execution_count": 5,
   "metadata": {},
   "outputs": [],
   "source": [
    "# Initialize grid\n",
    "L = 10.0    # Length of the domain\n",
    "c = 1.0     # Advection velocity\n",
    "Nx = 100    # Number of spatial grid points\n",
    "Nt = 200    # Number of time steps\n",
    "CFL = 0.7    # condition necessary for convergence\n",
    "dx = 2*L / Nx  # Spatial step size\n",
    "dt = CFL * dx\n",
    "epsilon = 1\n",
    "A = 1\n",
    "sigma = 1\n",
    "def initial_condition(x, A, sigma):\n",
    "    return A * np.exp(-x**2 / (2 * sigma**2))\n",
    "x = np.linspace(-L, L, Nx, endpoint=False)\n",
    "u = initial_condition(x, A, sigma)\n",
    "v = np.zeros(Nx)\n",
    "\n",
    "def boundary_conditions(u,v):\n",
    "    v[0] = c * (-48 * u[0] + 59 * u[1] - 8 * u[2] - 3 * u[3]) / (34 * dx)\n",
    "    v[-1] = -c * (48 * u[-1] - 59 * u[-2] + 8 * u[-3] + 3 * u[-4]) / (34 * dx) \n",
    "    return v\n",
    " \n",
    "def rhs(u,Nx,dx):#dx2\n",
    "    rhs = np.zeros_like(u)\n",
    "    for i in range(Nx):\n",
    "        rhs[i] = (-u[(i+2)%Nx]+16*u[(i+1)%Nx]-30*u[i]+16*u[(i-1)%Nx]-u[(i-2)%Nx])/(12*dx*dx)\n",
    "    return rhs\n",
    "\n",
    "def RK3_wave(u, v, dx, dt, Nx):\n",
    "    u_new = np.zeros_like(u)\n",
    "    v_new = np.zeros_like(u)\n",
    "    u_temp = np.copy(u)\n",
    "    v_temp = np.copy(v)\n",
    "    # Compute the spatial derivative and dissipation term at the current time step\n",
    "    rhs_un = rhs(u_temp, Nx, dx) + dissipation_term(u_temp,dx,Nx,epsilon)\n",
    "    rhs_vn = rhs(v_temp, Nx, dx) + dissipation_term(v_temp,dx,Nx,epsilon)\n",
    "    # First stage of RK3 method\n",
    "    u1 = (u_temp + dt * rhs_un)\n",
    "    v1 = (v_temp + dt * rhs_vn)\n",
    "    v1 = boundary_conditions(u1,v1)\n",
    "    rhs_u1 = rhs(u1, Nx, dx)+ dissipation_term(u1,dx,Nx,epsilon)\n",
    "    rhs_v1 = rhs(v1,Nx,dx) + dissipation_term(v1,dx,Nx,epsilon)\n",
    "    # Second stage of RK3 method\n",
    "    u2 = (u_temp + dt * (rhs_un + rhs_u1) / 4) \n",
    "    v2 = (v_temp + dt * (rhs_vn + rhs_v1) / 4) \n",
    "\n",
    "    v2 = boundary_conditions(u2,v2)\n",
    "    rhs_u2 = spatial_derivative_4_order(u2, Nx, dx)+ dissipation_term(u2,dx,Nx,epsilon)\n",
    "    # Final stage using the weighted average of the three evaluations\n",
    "    u_new = u + (dt / 6.0) * (rhs_un + rhs_u1 + 4 * rhs_u2)\n",
    "    v_new = boundary_conditions(u_new,v_new)\n",
    "#     u1 = u_temp + dt * (rhs(u,Nx,dx) + dissipation_term(u,dx,Nx,epsilon))\n",
    "#     v1 = v_temp + dt * (rhs(v,Nx,dx) + dissipation_term(v,dx,Nx,epsilon))\n",
    "#     v1 = boundary_conditions(u1,v1)\n",
    "#     u2 = u_temp + dt * ((rhs(u,Nx,dx) + rhs(u1,Nx,dx)) / 4 + dissipation_term(u,dx,Nx,epsilon))\n",
    "#     v2 = v_temp + dt * ((rhs(v,Nx,dx) + rhs(v1,Nx,dx)) / 4 + dissipation_term(v,dx,Nx,epsilon))\n",
    "#     v2 = boundary_conditions(u2,v2)\n",
    "#         # Update using the weighted average of the three evaluations\n",
    "#     u_new = u_temp + (dt / 6.0) * ((rhs(u,Nx,dx)+ dissipation_term(u,dx,Nx,epsilon)) + \n",
    "#                                              (rhs(u1,Nx,dx)+ dissipation_term(u,dx,Nx,epsilon)) + \n",
    "#                                              4 *(rhs(u2,Nx,dx)+ dissipation_term(u,dx,Nx,epsilon)))\n",
    "#     v_new = v_temp + (dt / 6.0) * ((rhs(v,Nx,dx)+ dissipation_term(u,dx,Nx,epsilon)) + \n",
    "#                                              (rhs(v1,Nx,dx)+ dissipation_term(u,dx,Nx,epsilon)) + \n",
    "#                                              4 * (rhs(v2,Nx,dx)+ dissipation_term(u,dx,Nx,epsilon)))\n",
    "#     v_new = boundary_conditions(u_new, v_new)  # Apply boundary conditions to the final result\n",
    "    return u_new, v_new\n",
    "\n",
    "def analytical_solution_wave(x, t):\n",
    "    wave_1 = initial_condition(x - c * t, A, sigma)  # Forward-moving wave\n",
    "    wave_2 = initial_condition(x + c * t, A, sigma)  # Backward-moving wave\n",
    "    return 0.5 * (wave_1 + wave_2)"
   ]
  },
  {
   "cell_type": "code",
   "execution_count": 6,
   "metadata": {},
   "outputs": [
    {
     "ename": "RuntimeError",
     "evalue": "Requested MovieWriter (ffmpeg) not available",
     "output_type": "error",
     "traceback": [
      "\u001b[1;31m---------------------------------------------------------------------------\u001b[0m",
      "\u001b[1;31mRuntimeError\u001b[0m                              Traceback (most recent call last)",
      "\u001b[1;32m~\\AppData\\Local\\Temp/ipykernel_13528/3927023302.py\u001b[0m in \u001b[0;36m<module>\u001b[1;34m\u001b[0m\n\u001b[0;32m     21\u001b[0m \u001b[1;31m# Create animation\u001b[0m\u001b[1;33m\u001b[0m\u001b[1;33m\u001b[0m\u001b[0m\n\u001b[0;32m     22\u001b[0m \u001b[0mwave_animation\u001b[0m \u001b[1;33m=\u001b[0m \u001b[0mFuncAnimation\u001b[0m\u001b[1;33m(\u001b[0m\u001b[0mfig\u001b[0m\u001b[1;33m,\u001b[0m \u001b[0mupdate\u001b[0m\u001b[1;33m,\u001b[0m \u001b[0mframes\u001b[0m\u001b[1;33m=\u001b[0m \u001b[0mNt\u001b[0m\u001b[1;33m,\u001b[0m \u001b[0minterval\u001b[0m\u001b[1;33m=\u001b[0m\u001b[1;36m100\u001b[0m\u001b[1;33m,\u001b[0m \u001b[0mblit\u001b[0m\u001b[1;33m=\u001b[0m\u001b[1;32mTrue\u001b[0m\u001b[1;33m)\u001b[0m\u001b[1;33m\u001b[0m\u001b[1;33m\u001b[0m\u001b[0m\n\u001b[1;32m---> 23\u001b[1;33m \u001b[0mHTML\u001b[0m\u001b[1;33m(\u001b[0m\u001b[0mwave_animation\u001b[0m\u001b[1;33m.\u001b[0m\u001b[0mto_html5_video\u001b[0m\u001b[1;33m(\u001b[0m\u001b[1;33m)\u001b[0m\u001b[1;33m)\u001b[0m\u001b[1;33m\u001b[0m\u001b[1;33m\u001b[0m\u001b[0m\n\u001b[0m",
      "\u001b[1;32m~\\anaconda3\\lib\\site-packages\\matplotlib\\animation.py\u001b[0m in \u001b[0;36mto_html5_video\u001b[1;34m(self, embed_limit)\u001b[0m\n\u001b[0;32m   1346\u001b[0m                 \u001b[1;31m# We create a writer manually so that we can get the\u001b[0m\u001b[1;33m\u001b[0m\u001b[1;33m\u001b[0m\u001b[0m\n\u001b[0;32m   1347\u001b[0m                 \u001b[1;31m# appropriate size for the tag\u001b[0m\u001b[1;33m\u001b[0m\u001b[1;33m\u001b[0m\u001b[0m\n\u001b[1;32m-> 1348\u001b[1;33m                 \u001b[0mWriter\u001b[0m \u001b[1;33m=\u001b[0m \u001b[0mwriters\u001b[0m\u001b[1;33m[\u001b[0m\u001b[0mmpl\u001b[0m\u001b[1;33m.\u001b[0m\u001b[0mrcParams\u001b[0m\u001b[1;33m[\u001b[0m\u001b[1;34m'animation.writer'\u001b[0m\u001b[1;33m]\u001b[0m\u001b[1;33m]\u001b[0m\u001b[1;33m\u001b[0m\u001b[1;33m\u001b[0m\u001b[0m\n\u001b[0m\u001b[0;32m   1349\u001b[0m                 writer = Writer(codec='h264',\n\u001b[0;32m   1350\u001b[0m                                 \u001b[0mbitrate\u001b[0m\u001b[1;33m=\u001b[0m\u001b[0mmpl\u001b[0m\u001b[1;33m.\u001b[0m\u001b[0mrcParams\u001b[0m\u001b[1;33m[\u001b[0m\u001b[1;34m'animation.bitrate'\u001b[0m\u001b[1;33m]\u001b[0m\u001b[1;33m,\u001b[0m\u001b[1;33m\u001b[0m\u001b[1;33m\u001b[0m\u001b[0m\n",
      "\u001b[1;32m~\\anaconda3\\lib\\site-packages\\matplotlib\\animation.py\u001b[0m in \u001b[0;36m__getitem__\u001b[1;34m(self, name)\u001b[0m\n\u001b[0;32m    149\u001b[0m         \u001b[1;32mif\u001b[0m \u001b[0mself\u001b[0m\u001b[1;33m.\u001b[0m\u001b[0mis_available\u001b[0m\u001b[1;33m(\u001b[0m\u001b[0mname\u001b[0m\u001b[1;33m)\u001b[0m\u001b[1;33m:\u001b[0m\u001b[1;33m\u001b[0m\u001b[1;33m\u001b[0m\u001b[0m\n\u001b[0;32m    150\u001b[0m             \u001b[1;32mreturn\u001b[0m \u001b[0mself\u001b[0m\u001b[1;33m.\u001b[0m\u001b[0m_registered\u001b[0m\u001b[1;33m[\u001b[0m\u001b[0mname\u001b[0m\u001b[1;33m]\u001b[0m\u001b[1;33m\u001b[0m\u001b[1;33m\u001b[0m\u001b[0m\n\u001b[1;32m--> 151\u001b[1;33m         \u001b[1;32mraise\u001b[0m \u001b[0mRuntimeError\u001b[0m\u001b[1;33m(\u001b[0m\u001b[1;34mf\"Requested MovieWriter ({name}) not available\"\u001b[0m\u001b[1;33m)\u001b[0m\u001b[1;33m\u001b[0m\u001b[1;33m\u001b[0m\u001b[0m\n\u001b[0m\u001b[0;32m    152\u001b[0m \u001b[1;33m\u001b[0m\u001b[0m\n\u001b[0;32m    153\u001b[0m \u001b[1;33m\u001b[0m\u001b[0m\n",
      "\u001b[1;31mRuntimeError\u001b[0m: Requested MovieWriter (ffmpeg) not available"
     ]
    },
    {
     "data": {
      "image/png": "[encoded data removed]",
      "text/plain": [
       "<Figure size 432x288 with 1 Axes>"
      ]
     },
     "metadata": {
      "needs_background": "light"
     },
     "output_type": "display_data"
    }
   ],
   "source": [
    "fig, ax = plt.subplots()\n",
    "#initial_line, = ax.plot(x, u, color='gray', linestyle='--', label='Condición inicial')\n",
    "line, = ax.plot(x, u, label=\"Numerical Solution\")\n",
    "analytical_line, = ax.plot(x, analytical_solution_wave(x, 0), \"--\", label=\"Analytical Solution\")\n",
    "\n",
    "ax.set_title('Wave Equation (RK3)')\n",
    "ax.set_xlabel('x')\n",
    "ax.set_ylabel('u')\n",
    "ax.legend()\n",
    "\n",
    "# Update function for animation\n",
    "def update(frame):\n",
    "    global u_new, u, v\n",
    "    u_new, v_new = RK3_wave(u, v, dx, dt, Nx)\n",
    "    u = np.copy(u_new)\n",
    "    v = np.copy(v_new)\n",
    "    line.set_ydata(u)\n",
    "    analytical_line.set_ydata(analytical_solution_wave(x, frame * dt))\n",
    "    ax.set_title(f'Wave Equation (RK3) - t = {frame*dt:.2f}')\n",
    "    return line, analytical_line\n",
    "# Create animation\n",
    "wave_animation = FuncAnimation(fig, update, frames= Nt, interval=100, blit=True)\n",
    "HTML(wave_animation.to_html5_video())\n"
   ]
  },
  {
   "cell_type": "code",
   "execution_count": null,
   "metadata": {},
   "outputs": [],
   "source": []
  }
 ],
 "metadata": {
  "kernelspec": {
   "display_name": "Python 3 (ipykernel)",
   "language": "python",
   "name": "python3"
  },
  "language_info": {
   "codemirror_mode": {
    "name": "ipython",
    "version": 3
   },
   "file_extension": ".py",
   "mimetype": "text/x-python",
   "name": "python",
   "nbconvert_exporter": "python",
   "pygments_lexer": "ipython3",
   "version": "3.9.7"
  }
 },
 "nbformat": 4,
 "nbformat_minor": 4
}
